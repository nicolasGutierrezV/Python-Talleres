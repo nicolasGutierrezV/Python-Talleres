{
 "cells": [
  {
   "cell_type": "markdown",
   "metadata": {},
   "source": [
    "# 1) Introducción y *Hola, mundo*\n",
    "\n",
    "## ¿Qué es Python?\n",
    "Python es un **lenguaje de programación de propósito general**, interpretado y con sintaxis clara. Destaca por su legibilidad y una batería estándar amplia.\n",
    "\n",
    "## ¿Para qué se usa?\n",
    "- Scripts y automatización\n",
    "- Ciencia de datos y aprendizaje automático\n",
    "- Desarrollo web, APIs y microservicios\n",
    "- Computación científica, prototipado rápido, educación\n",
    "\n",
    "## Ideas clave\n",
    "- **REPL** (consola interactiva) y **scripts** (`.py`).\n",
    "- **Indentación** significativa: los bloques se definen por sangría.\n",
    "- Comunidad enorme y ecosistema de librerías.\n"
   ]
  },
  {
   "cell_type": "markdown",
   "metadata": {},
   "source": [
    "## Taller — Paso a paso\n",
    "1. Crea un archivo `hola.py` con un `print`.\n",
    "2. Ejecútalo desde la terminal (o usa el botón *Run* en el notebook).\n",
    "3. Agrega expresiones aritméticas y múltiples impresiones.\n"
   ]
  },
  {
   "cell_type": "code",
   "execution_count": 1,
   "metadata": {},
   "outputs": [
    {
     "name": "stdout",
     "output_type": "stream",
     "text": [
      "¡Hola, Python!\n",
      "2 + 2 = 4\n"
     ]
    }
   ],
   "source": [
    "# Tu primer programa\n",
    "print(\"¡Hola, Python!\")\n",
    "print(\"2 + 2 =\", 2 + 2)\n"
   ]
  },
  {
   "cell_type": "markdown",
   "metadata": {},
   "source": [
    "### Ejercicios guiados\n",
    "- E1: Imprime tu nombre y ciudad.\n",
    "- E2: Imprime tres líneas usando `\\n`.\n",
    "- E3: Crea una variable `hoy` con la fecha actual formateada.\n",
    "\n",
    "### Reto extra\n",
    "Dibuja un marco simple con caracteres y un saludo en el centro.\n"
   ]
  },
  {
   "cell_type": "code",
   "execution_count": null,
   "metadata": {},
   "outputs": [],
   "source": [
    "# Pista para E3 (no es obligatorio usarlo aquí)\n",
    "from datetime import datetime\n",
    "hoy = datetime.now().strftime(\"%Y-%m-%d\")\n",
    "print(\"Hoy es:\", hoy)\n"
   ]
  }
 ],
 "metadata": {
  "kernelspec": {
   "display_name": ".venv",
   "language": "python",
   "name": "python3"
  },
  "language_info": {
   "codemirror_mode": {
    "name": "ipython",
    "version": 3
   },
   "file_extension": ".py",
   "mimetype": "text/x-python",
   "name": "python",
   "nbconvert_exporter": "python",
   "pygments_lexer": "ipython3",
   "version": "3.12.5"
  }
 },
 "nbformat": 4,
 "nbformat_minor": 5
}
