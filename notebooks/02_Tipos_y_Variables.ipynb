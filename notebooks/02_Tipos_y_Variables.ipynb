{
 "cells": [
  {
   "cell_type": "markdown",
   "metadata": {},
   "source": [
    "# 2) Tipos de datos y variables\n",
    "\n",
    "## ¿Qué son?\n",
    "Los **tipos** definen la clase de datos (entero, flotante, texto, booleano). Las **variables** son nombres que apuntan a valores en memoria.\n",
    "\n",
    "## ¿Para qué se usan?\n",
    "Para **representar y transformar información**. Python es *tipado dinámico*: el tipo se asocia al valor, no al nombre.\n",
    "\n",
    "## Tipos básicos\n",
    "- `int`, `float`, `str`, `bool`\n",
    "- Mutabilidad: `str` es inmutable, `list` es mutable.\n",
    "- Conversión de tipos: `int(\"42\")`, `float(\"3.14\")`, `str(99)`.\n"
   ]
  },
  {
   "cell_type": "markdown",
   "id": "3f96f0c0",
   "metadata": {},
   "source": [
    "### Ejercicios\n",
    "- E1: Declara tres variables de distintos tipos y muéstralas con su tipo.\n",
    "- E2: Convierte `\"99\"` a entero y súmalo con 1.\n",
    "- E3: Pide por `input()` nombre y edad, y muestra un mensaje formateado.\n",
    "\n",
    "### Reto extra\n",
    "Calcula el **IMC**: pide peso (kg) y altura (m), imprime el resultado con dos decimales.\n"
   ]
  },
  {
   "cell_type": "code",
   "execution_count": null,
   "metadata": {},
   "outputs": [],
   "source": [
    "edad = 28\n",
    "altura = 1.72\n",
    "nombre = \"Ada\"\n",
    "es_estudiante = True\n",
    "\n",
    "print(type(edad), type(altura), type(nombre), type(es_estudiante))\n",
    "print(f\"{nombre} mide {altura} m y tiene {edad} años. ¿Estudia? {es_estudiante}\")\n"
   ]
  },
  {
   "cell_type": "code",
   "execution_count": null,
   "id": "caefd51c",
   "metadata": {},
   "outputs": [],
   "source": [
    "\n",
    "nombre = \"Nicolas\" \n",
    "edad = 17               \n",
    "altura = 1.72           \n",
    "\n",
    "print(\"nombre:\", nombre)\n",
    "print(\"edad:\", edad)\n",
    "print(\"altura:\", altura)\n"
   ]
  },
  {
   "cell_type": "code",
   "execution_count": null,
   "id": "b33790d2",
   "metadata": {},
   "outputs": [],
   "source": [
    "numero = int('99') \n",
    "resultado = numero + 1\n",
    "print(resultado)   "
   ]
  },
  {
   "cell_type": "code",
   "execution_count": null,
   "id": "6809aff8",
   "metadata": {},
   "outputs": [],
   "source": [
    "\n",
    "nombre = input(\"¿Cuál es tu nombre? \")\n",
    "edad = input(\"¿Cuántos años tienes? \")\n",
    "\n",
    "print(f\"Hola, {Nicolas}. Tienes {18} años.\")\n",
    "\n"
   ]
  },
  {
   "cell_type": "code",
   "execution_count": null,
   "metadata": {},
   "outputs": [],
   "source": [
    "# Plantilla para IMC\n",
    "peso = 70.0\n",
    "altura = 1.75\n",
    "imc = peso / (altura ** 2)\n",
    "print(f\"IMC: {imc:.2f}\")\n"
   ]
  }
 ],
 "metadata": {
  "kernelspec": {
   "display_name": "Python 3",
   "language": "python",
   "name": "python3"
  },
  "language_info": {
   "name": "python",
   "version": "3.x"
  }
 },
 "nbformat": 4,
 "nbformat_minor": 5
}
